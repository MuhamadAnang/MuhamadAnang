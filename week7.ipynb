{
  "nbformat": 4,
  "nbformat_minor": 0,
  "metadata": {
    "colab": {
      "provenance": [],
      "authorship_tag": "ABX9TyPrqimBplnQVLoTmDhl6eFA",
      "include_colab_link": true
    },
    "kernelspec": {
      "name": "python3",
      "display_name": "Python 3"
    },
    "language_info": {
      "name": "python"
    }
  },
  "cells": [
    {
      "cell_type": "markdown",
      "metadata": {
        "id": "view-in-github",
        "colab_type": "text"
      },
      "source": [
        "<a href=\"https://colab.research.google.com/github/MuhamadAnang/MuhamadAnang/blob/main/week7.ipynb\" target=\"_parent\"><img src=\"https://colab.research.google.com/assets/colab-badge.svg\" alt=\"Open In Colab\"/></a>"
      ]
    },
    {
      "cell_type": "code",
      "execution_count": 1,
      "metadata": {
        "id": "ceBHEpkBfVZ6",
        "outputId": "0ce0143a-0113-44e9-a4fe-4e8c50fa3394",
        "colab": {
          "base_uri": "https://localhost:8080/"
        }
      },
      "outputs": [
        {
          "output_type": "stream",
          "name": "stdout",
          "text": [
            "Mounted at /content/gdrive\n"
          ]
        }
      ],
      "source": [
        "from google.colab import drive\n",
        "\n",
        "drive.mount('/content/gdrive')"
      ]
    },
    {
      "cell_type": "code",
      "source": [
        "import numpy as np\n",
        "import matplotlib.pyplot as plt\n",
        "import cv2 as cv\n",
        "import math\n",
        "from google.colab.patches import cv2_imshow\n",
        "from PIL import Image as im"
      ],
      "metadata": {
        "id": "ermAiwduf1GF"
      },
      "execution_count": 2,
      "outputs": []
    },
    {
      "cell_type": "code",
      "source": [
        "def convolution2d(image, kernel, stride=1, padding=0):\n",
        "    # Menambahkan padding pada citra\n",
        "    if padding > 0:\n",
        "        image = np.pad(image, ((padding, padding), (padding, padding)), mode='constant', constant_values=0)\n",
        "\n",
        "    # Dimensi citra dan kernel\n",
        "    image_height, image_width = image.shape\n",
        "    kernel_height, kernel_width = kernel.shape\n",
        "\n",
        "    # Menghitung dimensi output\n",
        "    output_height = (image_height - kernel_height) // stride + 1\n",
        "    output_width = (image_width - kernel_width) // stride + 1\n",
        "    output = np.zeros((output_height, output_width))\n",
        "\n",
        "    # Melakukan konvolusi\n",
        "    for y in range(0, output_height):\n",
        "        for x in range(0, output_width):\n",
        "            # Mengambil bagian dari citra sesuai dengan ukuran kernel\n",
        "            region = image[y*stride:y*stride + kernel_height, x*stride:x*stride + kernel_width]\n",
        "            # Menghitung hasil konvolusi\n",
        "            output[y, x] = np.sum(region * kernel)\n",
        "\n",
        "    return output\n",
        "\n",
        "# Contoh penggunaan\n",
        "if __name__ == \"__main__\":\n",
        "    # Citra contoh\n",
        "    image = np.array([[1, 2, 3],\n",
        "                      [4, 5, 6],\n",
        "                      [7, 8, 9]])\n",
        "\n",
        "    # Kernel contoh\n",
        "    kernel = np.array([[1, 0],\n",
        "                       [0, -1]])\n",
        "\n",
        "    # Parameter konvolusi\n",
        "    stride = 1\n",
        "    padding = 0\n",
        "\n",
        "    # Melakukan konvolusi\n",
        "    result = convolution2d(image, kernel, stride, padding)\n",
        "    print(\"Hasil konvolusi:\")\n",
        "    print(result)"
      ],
      "metadata": {
        "id": "zfBbtImzg-Gh",
        "outputId": "9e4ffc81-a3e8-42e8-83b9-7be68dceefba",
        "colab": {
          "base_uri": "https://localhost:8080/"
        }
      },
      "execution_count": 3,
      "outputs": [
        {
          "output_type": "stream",
          "name": "stdout",
          "text": [
            "Hasil konvolusi:\n",
            "[[-4. -4.]\n",
            " [-4. -4.]]\n"
          ]
        }
      ]
    }
  ]
}